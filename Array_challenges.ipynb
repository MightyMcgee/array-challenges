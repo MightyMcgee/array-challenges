{
 "cells": [
  {
   "cell_type": "code",
   "execution_count": 45,
   "metadata": {},
   "outputs": [],
   "source": [
    "import numpy as np\n",
    "import matplotlib.pyplot as plt"
   ]
  },
  {
   "cell_type": "code",
   "execution_count": 46,
   "metadata": {},
   "outputs": [
    {
     "data": {
      "text/plain": [
       "array([[0., 0.],\n",
       "       [0., 0.]])"
      ]
     },
     "execution_count": 46,
     "metadata": {},
     "output_type": "execute_result"
    }
   ],
   "source": [
    "rows = input(\"How many rows? \")\n",
    "columns = input(\"How many columns? \")\n",
    "np.zeros((int(rows),int(columns)))"
   ]
  },
  {
   "cell_type": "code",
   "execution_count": 47,
   "metadata": {},
   "outputs": [
    {
     "name": "stdout",
     "output_type": "stream",
     "text": [
      "[[0.21939121 0.92002483 0.6437023 ]\n",
      " [0.91445959 0.06720668 0.86183471]\n",
      " [0.55912952 0.75340429 0.21631249]]\n"
     ]
    }
   ],
   "source": [
    "a = np.zeros((3,3))\n",
    "for i in range(len(a)):\n",
    "    for j in range(len(a[0])):\n",
    "        a[i][j] = np.random.rand()\n",
    "print (a)"
   ]
  },
  {
   "cell_type": "code",
   "execution_count": 48,
   "metadata": {},
   "outputs": [
    {
     "data": {
      "text/plain": [
       "array([[0.41045786, 0.48693193],\n",
       "       [0.50873491, 0.61283283]])"
      ]
     },
     "execution_count": 48,
     "metadata": {},
     "output_type": "execute_result"
    }
   ],
   "source": [
    "a = np.zeros((2,2))\n",
    "for i in range(len(a)):\n",
    "    for j in range(len(a[0])):\n",
    "        a[i][j] = np.random.rand()\n",
    "b = np.zeros((2,2))\n",
    "for i in range(len(b)):\n",
    "    for j in range(len(b[0])):\n",
    "        b[i][j] = np.random.rand()   \n",
    "np.dot(a,b)"
   ]
  },
  {
   "cell_type": "code",
   "execution_count": 49,
   "metadata": {},
   "outputs": [
    {
     "name": "stdout",
     "output_type": "stream",
     "text": [
      "[[1 1 1]\n",
      " [2 2 2]\n",
      " [3 3 3]]\n"
     ]
    }
   ],
   "source": [
    "a = np.array([[1, 1, 1], [2, 2, 2], [3, 3, 3]])\n",
    "print(a)"
   ]
  },
  {
   "cell_type": "code",
   "execution_count": 50,
   "metadata": {},
   "outputs": [
    {
     "name": "stdout",
     "output_type": "stream",
     "text": [
      "[[0.46333874 0.16007955 0.90923021]\n",
      " [0.99345892 0.71387622 0.47699475]\n",
      " [0.89962125 0.57466096 0.69048377]\n",
      " [0.65123486 0.13342019 0.65521476]]\n",
      "1.5326485026501209\n",
      "2.1843298917733653\n",
      "2.1647659760946034\n",
      "1.4398698080828551\n"
     ]
    }
   ],
   "source": [
    "a = np.zeros((4,3))\n",
    "for i in range(len(a)):\n",
    "    for j in range(len(a[0])):\n",
    "        a[i][j] = np.random.rand()\n",
    "print(a)\n",
    "for i in range(len(a)):\n",
    "    row_sum = 0\n",
    "    for j in range(len(a[0])):\n",
    "        row_sum += a[i][j]\n",
    "    print (row_sum)\n"
   ]
  },
  {
   "cell_type": "code",
   "execution_count": 51,
   "metadata": {},
   "outputs": [
    {
     "name": "stdout",
     "output_type": "stream",
     "text": [
      "[[4 5 5 5]\n",
      " [5 2 2 5]\n",
      " [5 2 2 5]\n",
      " [5 5 5 4]]\n",
      "12\n"
     ]
    }
   ],
   "source": [
    "cycles = 0\n",
    "a = np.array([[0, 1, 1, 1], [1, 0, 0, 1], [1, 0, 0, 1], [1, 1, 1, 0]])\n",
    "b = np.dot(a,a)\n",
    "a = np.dot(a,b)\n",
    "print(a)\n",
    "for i in range(len(a)):\n",
    "    for j in range(len(a[0])):\n",
    "        if i == j:\n",
    "            cycles += a[i][j]\n",
    "print(cycles)            "
   ]
  },
  {
   "cell_type": "code",
   "execution_count": 55,
   "metadata": {},
   "outputs": [
    {
     "data": {
      "text/plain": [
       "<matplotlib.image.AxesImage at 0x73f94e3a7440>"
      ]
     },
     "execution_count": 55,
     "metadata": {},
     "output_type": "execute_result"
    },
    {
     "data": {
      "image/png": "[encoded data removed]",
      "text/plain": [
       "<Figure size 640x480 with 1 Axes>"
      ]
     },
     "metadata": {},
     "output_type": "display_data"
    }
   ],
   "source": [
    "a = np.zeros((6,6,3))\n",
    "for i in range(len(a)):\n",
    "    for j in range(len(a[0])):\n",
    "        for k in range(len(a[0][0])):\n",
    "            a[i][j][k] = np.random.rand()\n",
    "plt.imshow(a)\n"
   ]
  }
 ],
 "metadata": {
  "kernelspec": {
   "display_name": "Python 3",
   "language": "python",
   "name": "python3"
  },
  "language_info": {
   "codemirror_mode": {
    "name": "ipython",
    "version": 3
   },
   "file_extension": ".py",
   "mimetype": "text/x-python",
   "name": "python",
   "nbconvert_exporter": "python",
   "pygments_lexer": "ipython3",
   "version": "3.12.3"
  }
 },
 "nbformat": 4,
 "nbformat_minor": 2
}
